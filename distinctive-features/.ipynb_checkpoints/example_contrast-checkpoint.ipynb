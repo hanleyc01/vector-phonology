{
 "cells": [
  {
   "cell_type": "markdown",
   "id": "b30c8822-25d3-4469-aedc-2b9cc10d280f",
   "metadata": {},
   "source": [
    "# Example of Usage of Distinctive Feature Classes\n",
    "\n",
    "For the project I've created a couple of classes that help us think about distinctive segmental features. I've organized them in a way more close to \"feature geometry\", meaning that a segment can be thought of as a structure containing three sub-structures, the `Major` class features, the `Laryngeal` class features, and the `Place` class features. I think later, we might add some quantification of the distribution of that sound (the environments that it is present in, and the semantic content of said environments), but that is a job for later!\n",
    "\n",
    "## Major Class\n",
    "\n",
    "A common theme you'll see with these classes is that each class is represented as a `TypedDict`, meaning that ultimately, at runtime, they are a `dict` proper. This is up for debate about if that is a good idea, but I chose it at least at this stage because it allows us to have *named fields* while still being able to convert it to a vector through some quick methods on the `dict`."
   ]
  },
  {
   "cell_type": "code",
   "execution_count": 2,
   "id": "f85e844c-bc9f-4ba0-b8ab-85d62d8a6518",
   "metadata": {},
   "outputs": [
    {
     "data": {
      "text/plain": [
       "{'syll': 1,\n",
       " 'cons': 0,\n",
       " 'son': 1,\n",
       " 'contin': 1,\n",
       " 'del_rel': -1,\n",
       " 'lat': -1,\n",
       " 'nasal': 0}"
      ]
     },
     "execution_count": 2,
     "metadata": {},
     "output_type": "execute_result"
    }
   ],
   "source": [
    "from distfeat import Major, Laryngeal, Place, Sound, SArray\n",
    "import numpy as np\n",
    "\n",
    "# going to describe the high-front, unrounded vowel [i]\n",
    "i_major: Major = {\n",
    "            'syll': 1,\n",
    "            'cons': 0,\n",
    "            'son': 1,\n",
    "            'contin': 1,\n",
    "            'del_rel': -1,\n",
    "            'lat': -1,\n",
    "            'nasal': 0\n",
    "            }\n",
    "i_major"
   ]
  },
  {
   "cell_type": "markdown",
   "id": "eb9d413f-bee0-49b2-a33c-16189bed85c1",
   "metadata": {},
   "source": [
    "Note the three fold distinction in the possible values of the keys! For these sets of features, we're using a *balanced ternary* distinction, such that some feature can have a value in the set {-1, 0, 1}, where:\n",
    "\n",
    "- -1 := the *lack of specification* for that feature\n",
    "- 0 := the *negative* value for that feature, e.g. $[-cons]$\n",
    "- 1 := the *positive* value for that feature, e.g. $[+cons]$\n",
    "\n",
    "This distinction ought to hold for all other feature classes. Ultimately, we will be normalizing these vectors to have values between \\[0,1\\]!"
   ]
  },
  {
   "cell_type": "markdown",
   "id": "7d28b3ed-33de-4676-bb87-182f8392c850",
   "metadata": {},
   "source": [
    "## Laryngeal Class\n",
    "\n",
    "The laryngeal class is smaller than Major class features, as it only captures laryngeal features of some segment. Thus:"
   ]
  },
  {
   "cell_type": "code",
   "execution_count": 3,
   "id": "6225e6c3-cf66-4668-a75a-2cda9dec6925",
   "metadata": {},
   "outputs": [
    {
     "data": {
      "text/plain": [
       "{'voice': 1, 'spr_gl': 0, 'cons_gl': 0}"
      ]
     },
     "execution_count": 3,
     "metadata": {},
     "output_type": "execute_result"
    }
   ],
   "source": [
    "# describing the laryngeal class features of high-front, unrounded vowel\n",
    "i_lary: Laryngeal = {\n",
    "        'voice': 1,\n",
    "        'spr_gl': 0,\n",
    "        'cons_gl': 0,\n",
    "        }\n",
    "i_lary"
   ]
  },
  {
   "cell_type": "markdown",
   "id": "a7d93b2b-d3f3-434d-85be-399a5b9e7ca0",
   "metadata": {},
   "source": [
    "The `Laryngeal` class follows the same balanced ternary values as the `Major` class."
   ]
  },
  {
   "cell_type": "markdown",
   "id": "23265fd6-4e13-452c-b8c0-cef37e1e27c7",
   "metadata": {},
   "source": [
    "## Place Class\n",
    "\n",
    "The place class represents those features which characterize some segments place of articulation.\n",
    "\n",
    "Thus:"
   ]
  },
  {
   "cell_type": "code",
   "execution_count": 4,
   "id": "5c5b24f9-9b30-4ca9-9d54-1d2959a732eb",
   "metadata": {},
   "outputs": [
    {
     "data": {
      "text/plain": [
       "{'ant': -1,\n",
       " 'cor': -1,\n",
       " 'dist': -1,\n",
       " 'high': 1,\n",
       " 'low': 0,\n",
       " 'back': 0,\n",
       " 'round': 0,\n",
       " 'tense': 1,\n",
       " 'atr': 1,\n",
       " 'labial': -1}"
      ]
     },
     "execution_count": 4,
     "metadata": {},
     "output_type": "execute_result"
    }
   ],
   "source": [
    "# describing the place class features of the high-front, unrounded vowel\n",
    "i_pl: Place = {\n",
    "        'ant': -1,\n",
    "        'cor': -1,\n",
    "        'dist': -1,\n",
    "        'high': 1,\n",
    "        'low': 0,\n",
    "        'back': 0,\n",
    "        'round': 0,\n",
    "        'tense': 1,\n",
    "        'atr': 1,\n",
    "        'labial': -1\n",
    "        }\n",
    "i_pl"
   ]
  },
  {
   "cell_type": "markdown",
   "id": "27efa457-f78c-4508-8102-2d2ef4a10ef1",
   "metadata": {},
   "source": [
    "## Sound Class and SArray Class\n",
    "\n",
    "The `Sound` class is a class that combines the other classes above into a single structure, which ought to fully describe a single sound. The `Sound` class is paired with the `SArray` class, which is the sound turned into a `np.ndarray`, which allows for vector operations on the sound itself."
   ]
  },
  {
   "cell_type": "code",
   "execution_count": 5,
   "id": "98ab0071-a2d4-48d4-8ac4-b22aa38c1a85",
   "metadata": {},
   "outputs": [
    {
     "data": {
      "text/plain": [
       "{'major': {'syll': 1,\n",
       "  'cons': 0,\n",
       "  'son': 1,\n",
       "  'contin': 1,\n",
       "  'del_rel': -1,\n",
       "  'lat': -1,\n",
       "  'nasal': 0},\n",
       " 'laryngeal': {'voice': 1, 'spr_gl': 0, 'cons_gl': 0},\n",
       " 'place': {'ant': -1,\n",
       "  'cor': -1,\n",
       "  'dist': -1,\n",
       "  'high': 1,\n",
       "  'low': 0,\n",
       "  'back': 0,\n",
       "  'round': 0,\n",
       "  'tense': 1,\n",
       "  'atr': 1,\n",
       "  'labial': -1}}"
      ]
     },
     "execution_count": 5,
     "metadata": {},
     "output_type": "execute_result"
    }
   ],
   "source": [
    "# the high-front, unrounded vowel\n",
    "i: Sound = {'major': i_major, 'laryngeal': i_lary,\n",
    "            'place': i_pl}\n",
    "i"
   ]
  },
  {
   "cell_type": "code",
   "execution_count": 11,
   "id": "15114144-c998-4191-adff-bac02f8f7935",
   "metadata": {},
   "outputs": [
    {
     "name": "stdout",
     "output_type": "stream",
     "text": [
      "[ 1  0  1  1 -1 -1  0  1  0  0 -1 -1 -1  1  0  0  0  1  1 -1]\n"
     ]
    }
   ],
   "source": [
    "# [i] as an np.ndarray\n",
    "i_arr = SArray(i)\n",
    "print(i_arr)"
   ]
  },
  {
   "cell_type": "markdown",
   "id": "4c3ffaf2-cca5-4885-bd38-0993f2300353",
   "metadata": {},
   "source": [
    "# Some Interactions with the distinctive feature classes\n",
    "\n",
    "I've made some basic functions that interact with these classes that are helpful. Unfortunately, because of of the way that `TypedDict`s work, these are not methods of the classes themselves, but rather better characterized as helper functions"
   ]
  },
  {
   "cell_type": "code",
   "execution_count": 19,
   "id": "c251ddba-ccdc-4c1e-9e31-3b97c4ecb093",
   "metadata": {},
   "outputs": [
    {
     "name": "stdout",
     "output_type": "stream",
     "text": [
      "{'syll': 0.5944886322483747, 'cons': -0.32209673877364065, 'son': -0.6460358278551759, 'contin': -0.5172388751404655, 'del_rel': -0.6233677331893781, 'lat': -0.31630359569446753, 'nas': 0.5575090736553139, 'stri': -0.8114990102845376} {'voice': -0.885039736327877, 'spr_gl': 0.476752086207316, 'cons_gl': -0.4476272314811749} {'ant': 0.2501481129274419, 'cor': -0.26360104013656116, 'dist': 0.6232864420505086, 'high': -0.7865328699470413, 'low': 0.8604793945204725, 'back': 0.14424669408637358, 'round': -0.8026032326130048, 'lab': -0.2788866751922243, 'atr': -0.09808466658421766}\n"
     ]
    }
   ],
   "source": [
    "from contrast import *\n",
    "\n",
    "# Generate a random features with field values in the inclusive range\n",
    "# [-1,1]\n",
    "s_m = get_major()\n",
    "s_l = get_laryngeal()\n",
    "s_p = get_place()\n",
    "\n",
    "print(s_m, s_l, s_p)"
   ]
  },
  {
   "cell_type": "code",
   "execution_count": 20,
   "id": "df59b8bb-df97-4d7b-b6e1-fae5afc6af7e",
   "metadata": {},
   "outputs": [
    {
     "data": {
      "text/plain": [
       "{'major': {'syll': 0.3389194169057621,\n",
       "  'cons': -0.8503699803253189,\n",
       "  'son': -0.8492850255244191,\n",
       "  'contin': -0.5656520662263931,\n",
       "  'del_rel': 0.7818845642355654,\n",
       "  'lat': 0.23253599868979835,\n",
       "  'nas': 0.5432520141299644,\n",
       "  'stri': -0.9135319357046807},\n",
       " 'laryngeal': {'voice': -0.852999512484016,\n",
       "  'spr_gl': 0.17423600485959678,\n",
       "  'cons_gl': -0.8751218959341012},\n",
       " 'place': {'ant': -0.35851296151771916,\n",
       "  'cor': 0.7193375048472699,\n",
       "  'dist': 0.8045572509691035,\n",
       "  'high': -0.6323360999982552,\n",
       "  'low': 0.2442296592485358,\n",
       "  'back': 0.6453694390863822,\n",
       "  'round': 0.13236483742816785,\n",
       "  'lab': 0.1856416603298734,\n",
       "  'atr': -0.4299742888825886}}"
      ]
     },
     "execution_count": 20,
     "metadata": {},
     "output_type": "execute_result"
    }
   ],
   "source": [
    "# generate a random sound with those functions above\n",
    "s = get_sound()\n",
    "s"
   ]
  },
  {
   "cell_type": "code",
   "execution_count": 21,
   "id": "002be766-7a15-49c2-879a-7f8d25892f11",
   "metadata": {},
   "outputs": [
    {
     "data": {
      "text/plain": [
       "[{'major': {'syll': -0.97562350980242,\n",
       "   'cons': -0.8666981177332695,\n",
       "   'son': 0.7640975530544623,\n",
       "   'contin': 0.07782818944514269,\n",
       "   'del_rel': 0.9057092007205871,\n",
       "   'lat': 0.7054786669670641,\n",
       "   'nas': 0.14639486331012042,\n",
       "   'stri': -0.3406383697575184},\n",
       "  'laryngeal': {'voice': 0.9746168386772831,\n",
       "   'spr_gl': -0.6091844038342582,\n",
       "   'cons_gl': 0.26052232209126314},\n",
       "  'place': {'ant': 0.6203505994604575,\n",
       "   'cor': -0.5154643922463169,\n",
       "   'dist': -0.2358227631089571,\n",
       "   'high': -0.3674471036050748,\n",
       "   'low': 0.30137673030704826,\n",
       "   'back': 0.16471150202883167,\n",
       "   'round': 0.18024545020612748,\n",
       "   'lab': 0.8467085437564017,\n",
       "   'atr': -0.4379142373692946}},\n",
       " {'major': {'syll': -0.35166483058090936,\n",
       "   'cons': -0.7777841887018868,\n",
       "   'son': -0.5626011600341512,\n",
       "   'contin': -0.9130617691612466,\n",
       "   'del_rel': 0.9004600723330087,\n",
       "   'lat': 0.6423148001720105,\n",
       "   'nas': 0.6062100085482633,\n",
       "   'stri': -0.6143283030237219},\n",
       "  'laryngeal': {'voice': -0.4947563429291941,\n",
       "   'spr_gl': 0.07758694705297553,\n",
       "   'cons_gl': -0.4541151944320012},\n",
       "  'place': {'ant': -0.12532004096121585,\n",
       "   'cor': 0.8749546680329794,\n",
       "   'dist': 0.3923353711770412,\n",
       "   'high': 0.009871300189774113,\n",
       "   'low': 0.09626073701963112,\n",
       "   'back': 0.19196891755599332,\n",
       "   'round': 0.973802665197218,\n",
       "   'lab': 0.8072142887263689,\n",
       "   'atr': -0.32218180249204154}}]"
      ]
     },
     "execution_count": 21,
     "metadata": {},
     "output_type": "execute_result"
    }
   ],
   "source": [
    "# generate a collection of sounds, length\n",
    "# is taken as an optional parameter. if not specified,\n",
    "# then length is a random natural number in the range (1,10)\n",
    "ws0 = get_word(2)\n",
    "ws0"
   ]
  },
  {
   "cell_type": "code",
   "execution_count": null,
   "id": "13d51634-dadf-40b4-aae5-977a6d990158",
   "metadata": {},
   "outputs": [],
   "source": [
    "# convert a sound to a np.ndarray\n",
    "w_array = SArray_word(ws0)"
   ]
  }
 ],
 "metadata": {
  "kernelspec": {
   "display_name": "Python 3 (ipykernel)",
   "language": "python",
   "name": "python3"
  },
  "language_info": {
   "codemirror_mode": {
    "name": "ipython",
    "version": 3
   },
   "file_extension": ".py",
   "mimetype": "text/x-python",
   "name": "python",
   "nbconvert_exporter": "python",
   "pygments_lexer": "ipython3",
   "version": "3.10.7"
  }
 },
 "nbformat": 4,
 "nbformat_minor": 5
}
