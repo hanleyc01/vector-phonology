{
 "cells": [
  {
   "cell_type": "markdown",
   "id": "b30c8822-25d3-4469-aedc-2b9cc10d280f",
   "metadata": {},
   "source": [
    "# Example of Usage of Distinctive Feature Classes\n",
    "\n",
    "For the project I've created a couple of classes that help us think about distinctive segmental features. I've organized them in a way more close to \"feature geometry\", meaning that a segment can be thought of as a structure containing three sub-structures, the `Major` class features, the `Laryngeal` class features, and the `Place` class features. I think later, we might add some quantification of the distribution of that sound (the environments that it is present in, and the semantic content of said environments), but that is a job for later!\n",
    "\n",
    "## Major Class\n",
    "\n",
    "A common theme you'll see with these classes is that each class is represented as a `TypedDict`, meaning that ultimately, at runtime, they are a `dict` proper. This is up for debate about if that is a good idea, but I chose it at least at this stage because it allows us to have *named fields* while still being able to convert it to a vector through some quick methods on the `dict`."
   ]
  },
  {
   "cell_type": "code",
   "execution_count": 1,
   "id": "f85e844c-bc9f-4ba0-b8ab-85d62d8a6518",
   "metadata": {},
   "outputs": [
    {
     "data": {
      "text/plain": [
       "{'syll': 1,\n",
       " 'cons': 0,\n",
       " 'son': 1,\n",
       " 'contin': 1,\n",
       " 'del_rel': -1,\n",
       " 'lat': -1,\n",
       " 'nasal': 0}"
      ]
     },
     "execution_count": 1,
     "metadata": {},
     "output_type": "execute_result"
    }
   ],
   "source": [
    "from distfeat import Major, Laryngeal, Place, Sound, SArray\n",
    "import numpy as np\n",
    "\n",
    "# going to describe the high-front, unrounded vowel [i]\n",
    "i_major: Major = {\n",
    "            'syll': 1,\n",
    "            'cons': 0,\n",
    "            'son': 1,\n",
    "            'contin': 1,\n",
    "            'del_rel': -1,\n",
    "            'lat': -1,\n",
    "            'nasal': 0\n",
    "            }\n",
    "i_major"
   ]
  },
  {
   "cell_type": "markdown",
   "id": "eb9d413f-bee0-49b2-a33c-16189bed85c1",
   "metadata": {},
   "source": [
    "Note the three fold distinction in the possible values of the keys! For these sets of features, we're using a *balanced ternary* distinction, such that some feature can have a value in the set {-1, 0, 1}, where:\n",
    "\n",
    "- -1 := the *lack of specification* for that feature\n",
    "- 0 := the *negative* value for that feature, e.g. $[-cons]$\n",
    "- 1 := the *positive* value for that feature, e.g. $[+cons]$\n",
    "\n",
    "This distinction ought to hold for all other feature classes. Ultimately, we will be normalizing these vectors to have values between \\[0,1\\]!"
   ]
  },
  {
   "cell_type": "markdown",
   "id": "7d28b3ed-33de-4676-bb87-182f8392c850",
   "metadata": {},
   "source": [
    "## Laryngeal Class\n",
    "\n",
    "The laryngeal class is smaller than Major class features, as it only captures laryngeal features of some segment. Thus:"
   ]
  },
  {
   "cell_type": "code",
   "execution_count": 2,
   "id": "6225e6c3-cf66-4668-a75a-2cda9dec6925",
   "metadata": {},
   "outputs": [
    {
     "data": {
      "text/plain": [
       "{'voice': 1, 'spr_gl': 0, 'cons_gl': 0}"
      ]
     },
     "execution_count": 2,
     "metadata": {},
     "output_type": "execute_result"
    }
   ],
   "source": [
    "# describing the laryngeal class features of high-front, unrounded vowel\n",
    "i_lary: Laryngeal = {\n",
    "        'voice': 1,\n",
    "        'spr_gl': 0,\n",
    "        'cons_gl': 0,\n",
    "        }\n",
    "i_lary"
   ]
  },
  {
   "cell_type": "markdown",
   "id": "a7d93b2b-d3f3-434d-85be-399a5b9e7ca0",
   "metadata": {},
   "source": [
    "The `Laryngeal` class follows the same balanced ternary values as the `Major` class."
   ]
  },
  {
   "cell_type": "markdown",
   "id": "23265fd6-4e13-452c-b8c0-cef37e1e27c7",
   "metadata": {},
   "source": [
    "## Place Class\n",
    "\n",
    "The place class represents those features which characterize some segments place of articulation.\n",
    "\n",
    "Thus:"
   ]
  },
  {
   "cell_type": "code",
   "execution_count": 3,
   "id": "5c5b24f9-9b30-4ca9-9d54-1d2959a732eb",
   "metadata": {},
   "outputs": [
    {
     "data": {
      "text/plain": [
       "{'ant': -1,\n",
       " 'cor': -1,\n",
       " 'dist': -1,\n",
       " 'high': 1,\n",
       " 'low': 0,\n",
       " 'back': 0,\n",
       " 'round': 0,\n",
       " 'tense': 1,\n",
       " 'atr': 1,\n",
       " 'labial': -1}"
      ]
     },
     "execution_count": 3,
     "metadata": {},
     "output_type": "execute_result"
    }
   ],
   "source": [
    "# describing the place class features of the high-front, unrounded vowel\n",
    "i_pl: Place = {\n",
    "        'ant': -1,\n",
    "        'cor': -1,\n",
    "        'dist': -1,\n",
    "        'high': 1,\n",
    "        'low': 0,\n",
    "        'back': 0,\n",
    "        'round': 0,\n",
    "        'tense': 1,\n",
    "        'atr': 1,\n",
    "        'labial': -1\n",
    "        }\n",
    "i_pl"
   ]
  },
  {
   "cell_type": "markdown",
   "id": "27efa457-f78c-4508-8102-2d2ef4a10ef1",
   "metadata": {},
   "source": [
    "## Sound Class and SArray Class\n",
    "\n",
    "The `Sound` class is a class that combines the other classes above into a single structure, which ought to fully describe a single sound. The `Sound` class is paired with the `SArray` class, which is the sound turned into a `np.ndarray`, which allows for vector operations on the sound itself."
   ]
  },
  {
   "cell_type": "code",
   "execution_count": 4,
   "id": "98ab0071-a2d4-48d4-8ac4-b22aa38c1a85",
   "metadata": {},
   "outputs": [
    {
     "data": {
      "text/plain": [
       "{'major': {'syll': 1,\n",
       "  'cons': 0,\n",
       "  'son': 1,\n",
       "  'contin': 1,\n",
       "  'del_rel': -1,\n",
       "  'lat': -1,\n",
       "  'nasal': 0},\n",
       " 'laryngeal': {'voice': 1, 'spr_gl': 0, 'cons_gl': 0},\n",
       " 'place': {'ant': -1,\n",
       "  'cor': -1,\n",
       "  'dist': -1,\n",
       "  'high': 1,\n",
       "  'low': 0,\n",
       "  'back': 0,\n",
       "  'round': 0,\n",
       "  'tense': 1,\n",
       "  'atr': 1,\n",
       "  'labial': -1}}"
      ]
     },
     "execution_count": 4,
     "metadata": {},
     "output_type": "execute_result"
    }
   ],
   "source": [
    "# the high-front, unrounded vowel\n",
    "i: Sound = {'major': i_major, 'laryngeal': i_lary,\n",
    "            'place': i_pl}\n",
    "i"
   ]
  },
  {
   "cell_type": "code",
   "execution_count": 5,
   "id": "15114144-c998-4191-adff-bac02f8f7935",
   "metadata": {},
   "outputs": [
    {
     "name": "stdout",
     "output_type": "stream",
     "text": [
      "[ 1  0  1  1 -1 -1  0  1  0  0 -1 -1 -1  1  0  0  0  1  1 -1]\n"
     ]
    }
   ],
   "source": [
    "# [i] as an np.ndarray\n",
    "i_arr = SArray(i)\n",
    "print(i_arr)"
   ]
  },
  {
   "cell_type": "markdown",
   "id": "4c3ffaf2-cca5-4885-bd38-0993f2300353",
   "metadata": {},
   "source": [
    "# Some Interactions with the distinctive feature classes\n",
    "\n",
    "I've made some basic functions that interact with these classes that are helpful. Unfortunately, because of of the way that `TypedDict`s work, these are not methods of the classes themselves, but rather better characterized as helper functions"
   ]
  },
  {
   "cell_type": "code",
   "execution_count": 6,
   "id": "c251ddba-ccdc-4c1e-9e31-3b97c4ecb093",
   "metadata": {},
   "outputs": [
    {
     "name": "stdout",
     "output_type": "stream",
     "text": [
      "{'syll': 0.3155209004829065, 'cons': -0.44489899358910834, 'son': 0.44882410715035626, 'contin': 0.9369988330225454, 'del_rel': -0.10070939890026209, 'lat': -0.8279857933630579, 'nas': 0.4622664497728348, 'stri': 0.670664963658449} {'voice': 0.3165470653648128, 'spr_gl': -0.8712717257313585, 'cons_gl': 0.16676658621140494} {'ant': 0.40567853166743406, 'cor': -0.35156675596109266, 'dist': -0.7981605743152864, 'high': 0.10309722937926158, 'low': 0.20480185276132423, 'back': -0.38785082203673493, 'round': -0.7711276014332822, 'lab': 0.9752025545651644, 'atr': 0.3291183202805945}\n"
     ]
    }
   ],
   "source": [
    "from contrast import *\n",
    "\n",
    "# Generate a random features with field values in the inclusive range\n",
    "# [-1,1]\n",
    "s_m = get_major()\n",
    "s_l = get_laryngeal()\n",
    "s_p = get_place()\n",
    "\n",
    "print(s_m, s_l, s_p)"
   ]
  },
  {
   "cell_type": "code",
   "execution_count": 7,
   "id": "df59b8bb-df97-4d7b-b6e1-fae5afc6af7e",
   "metadata": {},
   "outputs": [
    {
     "data": {
      "text/plain": [
       "{'major': {'syll': -0.3092064008246027,\n",
       "  'cons': 0.2882982007074286,\n",
       "  'son': 0.5961184277874261,\n",
       "  'contin': 0.7161049551474488,\n",
       "  'del_rel': -0.7390706110380216,\n",
       "  'lat': -0.801156309822197,\n",
       "  'nas': -0.8218930498205794,\n",
       "  'stri': 0.7743176640565435},\n",
       " 'laryngeal': {'voice': 0.4051999690616497,\n",
       "  'spr_gl': 0.02928907991021501,\n",
       "  'cons_gl': 0.9771942230080641},\n",
       " 'place': {'ant': -0.3336571049250836,\n",
       "  'cor': -0.6479587855357527,\n",
       "  'dist': -0.8504016951791349,\n",
       "  'high': 0.6890549865797899,\n",
       "  'low': 0.9861424317295757,\n",
       "  'back': -0.5661455260681778,\n",
       "  'round': -0.1349874103025659,\n",
       "  'lab': -0.45884006435084745,\n",
       "  'atr': -0.9971633824972423}}"
      ]
     },
     "execution_count": 7,
     "metadata": {},
     "output_type": "execute_result"
    }
   ],
   "source": [
    "# generate a random sound with those functions above\n",
    "s = get_sound()\n",
    "s"
   ]
  },
  {
   "cell_type": "code",
   "execution_count": 8,
   "id": "002be766-7a15-49c2-879a-7f8d25892f11",
   "metadata": {},
   "outputs": [
    {
     "data": {
      "text/plain": [
       "[{'major': {'syll': -0.6577418831219006,\n",
       "   'cons': 0.5735024602908076,\n",
       "   'son': 0.1655204659582663,\n",
       "   'contin': 0.03654736847035145,\n",
       "   'del_rel': -0.7128766517023506,\n",
       "   'lat': -0.28073768739879745,\n",
       "   'nas': 0.7302273041735217,\n",
       "   'stri': 0.44320652766877267},\n",
       "  'laryngeal': {'voice': 0.48421393412028113,\n",
       "   'spr_gl': -0.8211473190861971,\n",
       "   'cons_gl': -0.3962921013130647},\n",
       "  'place': {'ant': -0.35108319442362523,\n",
       "   'cor': 0.24276843225371092,\n",
       "   'dist': 0.6849671948720606,\n",
       "   'high': 0.9437513624556282,\n",
       "   'low': 0.8276260704690179,\n",
       "   'back': 0.5047953185773573,\n",
       "   'round': 0.15109227232740774,\n",
       "   'lab': 0.804114507530715,\n",
       "   'atr': -0.7350275600689693}},\n",
       " {'major': {'syll': 0.35864902567657064,\n",
       "   'cons': -0.4187294919666251,\n",
       "   'son': 0.2519242351796609,\n",
       "   'contin': -0.18896688666743322,\n",
       "   'del_rel': -0.10424084583397852,\n",
       "   'lat': -0.3074396187568307,\n",
       "   'nas': 0.0917656236497324,\n",
       "   'stri': -0.13997531312703715},\n",
       "  'laryngeal': {'voice': -0.933971918243879,\n",
       "   'spr_gl': -0.2695004572112858,\n",
       "   'cons_gl': -0.47667969137600474},\n",
       "  'place': {'ant': -0.8505853255236886,\n",
       "   'cor': -0.22978207898182434,\n",
       "   'dist': 0.9128800557124297,\n",
       "   'high': 0.77261857314357,\n",
       "   'low': -0.26546778180242936,\n",
       "   'back': -0.19142801451242675,\n",
       "   'round': -0.8691672849513545,\n",
       "   'lab': 0.6938457703262373,\n",
       "   'atr': 0.3749311069235639}}]"
      ]
     },
     "execution_count": 8,
     "metadata": {},
     "output_type": "execute_result"
    }
   ],
   "source": [
    "# generate a collection of sounds, length\n",
    "# is taken as an optional parameter. if not specified,\n",
    "# then length is a random natural number in the range (1,10)\n",
    "ws0 = get_word(2)\n",
    "ws0"
   ]
  },
  {
   "cell_type": "code",
   "execution_count": 9,
   "id": "13d51634-dadf-40b4-aae5-977a6d990158",
   "metadata": {},
   "outputs": [
    {
     "name": "stderr",
     "output_type": "stream",
     "text": [
      "/Users/connorhanley/Documents/School/Research/vector-phonology/distinctive-features/contrast.py:128: VisibleDeprecationWarning: Creating an ndarray from ragged nested sequences (which is a list-or-tuple of lists-or-tuples-or ndarrays with different lengths or shapes) is deprecated. If you meant to do this, you must specify 'dtype=object' when creating the ndarray.\n",
      "  return np.array(l)\n"
     ]
    }
   ],
   "source": [
    "# convert a sound to a np.ndarray\n",
    "w_array = SArray_word(ws0)"
   ]
  },
  {
   "cell_type": "code",
   "execution_count": null,
   "id": "e93e3547-ef6a-46b6-9aa2-5d81cf35a7b5",
   "metadata": {},
   "outputs": [],
   "source": []
  },
  {
   "cell_type": "code",
   "execution_count": null,
   "id": "bcc84f60-8bf9-402c-932a-cf56608c70e8",
   "metadata": {},
   "outputs": [],
   "source": []
  }
 ],
 "metadata": {
  "kernelspec": {
   "display_name": "Python 3 (ipykernel)",
   "language": "python",
   "name": "python3"
  },
  "language_info": {
   "codemirror_mode": {
    "name": "ipython",
    "version": 3
   },
   "file_extension": ".py",
   "mimetype": "text/x-python",
   "name": "python",
   "nbconvert_exporter": "python",
   "pygments_lexer": "ipython3",
   "version": "3.10.7"
  }
 },
 "nbformat": 4,
 "nbformat_minor": 5
}
